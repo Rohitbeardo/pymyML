{
  "nbformat": 4,
  "nbformat_minor": 0,
  "metadata": {
    "colab": {
      "name": "cedura.ipynb",
      "provenance": [],
      "collapsed_sections": [],
      "mount_file_id": "1VyaDicuCz0DJ45ZKXf-AKAiGu2NPRHEL",
      "authorship_tag": "ABX9TyMPI/0epowfbG6kbzj2L/ZD"
    },
    "kernelspec": {
      "name": "python3",
      "display_name": "Python 3"
    },
    "language_info": {
      "name": "python"
    }
  },
  "cells": [
    {
      "cell_type": "code",
      "metadata": {
        "colab": {
          "base_uri": "https://localhost:8080/",
          "height": 282
        },
        "id": "I5fvSKyySld8",
        "outputId": "f48fa10d-998f-4eaf-be67-cc7ed92022b9"
      },
      "source": [
        "import pandas as pd\n",
        "df=pd.read_csv(\"/content/drive/MyDrive/Colab Notebooks/MBA.csv\")\n",
        "df.head()"
      ],
      "execution_count": 47,
      "outputs": [
        {
          "output_type": "execute_result",
          "data": {
            "text/html": [
              "<div>\n",
              "<style scoped>\n",
              "    .dataframe tbody tr th:only-of-type {\n",
              "        vertical-align: middle;\n",
              "    }\n",
              "\n",
              "    .dataframe tbody tr th {\n",
              "        vertical-align: top;\n",
              "    }\n",
              "\n",
              "    .dataframe thead th {\n",
              "        text-align: right;\n",
              "    }\n",
              "</style>\n",
              "<table border=\"1\" class=\"dataframe\">\n",
              "  <thead>\n",
              "    <tr style=\"text-align: right;\">\n",
              "      <th></th>\n",
              "      <th>shrimp</th>\n",
              "      <th>almonds</th>\n",
              "      <th>avocado</th>\n",
              "      <th>vegetables mix</th>\n",
              "      <th>green grapes</th>\n",
              "      <th>whole weat flour</th>\n",
              "      <th>yams</th>\n",
              "      <th>cottage cheese</th>\n",
              "      <th>energy drink</th>\n",
              "      <th>tomato juice</th>\n",
              "      <th>low fat yogurt</th>\n",
              "      <th>green tea</th>\n",
              "      <th>honey</th>\n",
              "      <th>salad</th>\n",
              "      <th>mineral water</th>\n",
              "      <th>salmon</th>\n",
              "      <th>antioxydant juice</th>\n",
              "      <th>frozen smoothie</th>\n",
              "      <th>spinach</th>\n",
              "      <th>olive oil</th>\n",
              "    </tr>\n",
              "  </thead>\n",
              "  <tbody>\n",
              "    <tr>\n",
              "      <th>0</th>\n",
              "      <td>burgers</td>\n",
              "      <td>meatballs</td>\n",
              "      <td>eggs</td>\n",
              "      <td>NaN</td>\n",
              "      <td>NaN</td>\n",
              "      <td>NaN</td>\n",
              "      <td>NaN</td>\n",
              "      <td>NaN</td>\n",
              "      <td>NaN</td>\n",
              "      <td>NaN</td>\n",
              "      <td>NaN</td>\n",
              "      <td>NaN</td>\n",
              "      <td>NaN</td>\n",
              "      <td>NaN</td>\n",
              "      <td>NaN</td>\n",
              "      <td>NaN</td>\n",
              "      <td>NaN</td>\n",
              "      <td>NaN</td>\n",
              "      <td>NaN</td>\n",
              "      <td>NaN</td>\n",
              "    </tr>\n",
              "    <tr>\n",
              "      <th>1</th>\n",
              "      <td>chutney</td>\n",
              "      <td>NaN</td>\n",
              "      <td>NaN</td>\n",
              "      <td>NaN</td>\n",
              "      <td>NaN</td>\n",
              "      <td>NaN</td>\n",
              "      <td>NaN</td>\n",
              "      <td>NaN</td>\n",
              "      <td>NaN</td>\n",
              "      <td>NaN</td>\n",
              "      <td>NaN</td>\n",
              "      <td>NaN</td>\n",
              "      <td>NaN</td>\n",
              "      <td>NaN</td>\n",
              "      <td>NaN</td>\n",
              "      <td>NaN</td>\n",
              "      <td>NaN</td>\n",
              "      <td>NaN</td>\n",
              "      <td>NaN</td>\n",
              "      <td>NaN</td>\n",
              "    </tr>\n",
              "    <tr>\n",
              "      <th>2</th>\n",
              "      <td>turkey</td>\n",
              "      <td>avocado</td>\n",
              "      <td>NaN</td>\n",
              "      <td>NaN</td>\n",
              "      <td>NaN</td>\n",
              "      <td>NaN</td>\n",
              "      <td>NaN</td>\n",
              "      <td>NaN</td>\n",
              "      <td>NaN</td>\n",
              "      <td>NaN</td>\n",
              "      <td>NaN</td>\n",
              "      <td>NaN</td>\n",
              "      <td>NaN</td>\n",
              "      <td>NaN</td>\n",
              "      <td>NaN</td>\n",
              "      <td>NaN</td>\n",
              "      <td>NaN</td>\n",
              "      <td>NaN</td>\n",
              "      <td>NaN</td>\n",
              "      <td>NaN</td>\n",
              "    </tr>\n",
              "    <tr>\n",
              "      <th>3</th>\n",
              "      <td>mineral water</td>\n",
              "      <td>milk</td>\n",
              "      <td>energy bar</td>\n",
              "      <td>whole wheat rice</td>\n",
              "      <td>green tea</td>\n",
              "      <td>NaN</td>\n",
              "      <td>NaN</td>\n",
              "      <td>NaN</td>\n",
              "      <td>NaN</td>\n",
              "      <td>NaN</td>\n",
              "      <td>NaN</td>\n",
              "      <td>NaN</td>\n",
              "      <td>NaN</td>\n",
              "      <td>NaN</td>\n",
              "      <td>NaN</td>\n",
              "      <td>NaN</td>\n",
              "      <td>NaN</td>\n",
              "      <td>NaN</td>\n",
              "      <td>NaN</td>\n",
              "      <td>NaN</td>\n",
              "    </tr>\n",
              "    <tr>\n",
              "      <th>4</th>\n",
              "      <td>low fat yogurt</td>\n",
              "      <td>NaN</td>\n",
              "      <td>NaN</td>\n",
              "      <td>NaN</td>\n",
              "      <td>NaN</td>\n",
              "      <td>NaN</td>\n",
              "      <td>NaN</td>\n",
              "      <td>NaN</td>\n",
              "      <td>NaN</td>\n",
              "      <td>NaN</td>\n",
              "      <td>NaN</td>\n",
              "      <td>NaN</td>\n",
              "      <td>NaN</td>\n",
              "      <td>NaN</td>\n",
              "      <td>NaN</td>\n",
              "      <td>NaN</td>\n",
              "      <td>NaN</td>\n",
              "      <td>NaN</td>\n",
              "      <td>NaN</td>\n",
              "      <td>NaN</td>\n",
              "    </tr>\n",
              "  </tbody>\n",
              "</table>\n",
              "</div>"
            ],
            "text/plain": [
              "           shrimp    almonds     avocado  ... frozen smoothie spinach olive oil\n",
              "0         burgers  meatballs        eggs  ...             NaN     NaN       NaN\n",
              "1         chutney        NaN         NaN  ...             NaN     NaN       NaN\n",
              "2          turkey    avocado         NaN  ...             NaN     NaN       NaN\n",
              "3   mineral water       milk  energy bar  ...             NaN     NaN       NaN\n",
              "4  low fat yogurt        NaN         NaN  ...             NaN     NaN       NaN\n",
              "\n",
              "[5 rows x 20 columns]"
            ]
          },
          "metadata": {
            "tags": []
          },
          "execution_count": 47
        }
      ]
    },
    {
      "cell_type": "code",
      "metadata": {
        "colab": {
          "base_uri": "https://localhost:8080/"
        },
        "id": "xutsDwEEbyTa",
        "outputId": "6a5392cd-6c85-47a3-a618-86f2f40facc6"
      },
      "source": [
        "(x,y)=df.shape\n",
        "print(x)"
      ],
      "execution_count": 26,
      "outputs": [
        {
          "output_type": "stream",
          "text": [
            "7500\n"
          ],
          "name": "stdout"
        }
      ]
    },
    {
      "cell_type": "code",
      "metadata": {
        "colab": {
          "base_uri": "https://localhost:8080/"
        },
        "id": "0uWorBc9cjR1",
        "outputId": "22727737-1d7a-4d72-88dd-29eb4be27768"
      },
      "source": [
        "columns=df.columns\n",
        "columns"
      ],
      "execution_count": 62,
      "outputs": [
        {
          "output_type": "execute_result",
          "data": {
            "text/plain": [
              "Index(['shrimp', 'almonds', 'avocado', 'vegetables mix', 'green grapes',\n",
              "       'whole weat flour', 'yams', 'cottage cheese', 'energy drink',\n",
              "       'tomato juice', 'low fat yogurt', 'green tea', 'honey', 'salad',\n",
              "       'mineral water', 'salmon', 'antioxydant juice', 'frozen smoothie',\n",
              "       'spinach', 'olive oil'],\n",
              "      dtype='object')"
            ]
          },
          "metadata": {
            "tags": []
          },
          "execution_count": 62
        }
      ]
    },
    {
      "cell_type": "markdown",
      "metadata": {
        "id": "dMg3krbsigrF"
      },
      "source": [
        "Percentage of null values for one column"
      ]
    },
    {
      "cell_type": "code",
      "metadata": {
        "colab": {
          "base_uri": "https://localhost:8080/"
        },
        "id": "viTor4DGY4RE",
        "outputId": "2d34b05a-3364-4b83-ef23-44bcc606a6f3"
      },
      "source": [
        "y=df['avocado'].isna().sum()\n",
        "avg=(y/x)*100\n",
        "avg\n",
        "\n"
      ],
      "execution_count": 29,
      "outputs": [
        {
          "output_type": "execute_result",
          "data": {
            "text/plain": [
              "41.49333333333333"
            ]
          },
          "metadata": {
            "tags": []
          },
          "execution_count": 29
        }
      ]
    },
    {
      "cell_type": "markdown",
      "metadata": {
        "id": "6i40KGOuirHT"
      },
      "source": [
        "Percentage of null values in all columns"
      ]
    },
    {
      "cell_type": "code",
      "metadata": {
        "colab": {
          "base_uri": "https://localhost:8080/"
        },
        "id": "r-plx9yWdJNU",
        "outputId": "d2b3c643-bdb7-4058-adcb-320706a32ed0"
      },
      "source": [
        "for column in df[columns]:\n",
        "   columndata = df[column]\n",
        "   print('Colunm Name : ', column)\n",
        "   y=df[column].isna().sum()\n",
        "   avg=float((y/x)*100)\n",
        "   print(\"Percentage of null values:\",avg)"
      ],
      "execution_count": 63,
      "outputs": [
        {
          "output_type": "stream",
          "text": [
            "Colunm Name :  shrimp\n",
            "Percentage of null values: 0.0\n",
            "Colunm Name :  almonds\n",
            "Percentage of null values: 23.386666666666667\n",
            "Colunm Name :  avocado\n",
            "Percentage of null values: 41.49333333333333\n",
            "Colunm Name :  vegetables mix\n",
            "Percentage of null values: 55.413333333333334\n",
            "Colunm Name :  green grapes\n",
            "Percentage of null values: 66.29333333333334\n",
            "Colunm Name :  whole weat flour\n",
            "Percentage of null values: 75.16000000000001\n",
            "Colunm Name :  yams\n",
            "Percentage of null values: 81.76\n",
            "Colunm Name :  cottage cheese\n",
            "Percentage of null values: 86.93333333333332\n",
            "Colunm Name :  energy drink\n",
            "Percentage of null values: 91.29333333333334\n",
            "Colunm Name :  tomato juice\n",
            "Percentage of null values: 94.74666666666667\n",
            "Colunm Name :  low fat yogurt\n",
            "Percentage of null values: 96.6\n",
            "Colunm Name :  green tea\n",
            "Percentage of null values: 97.96000000000001\n",
            "Colunm Name :  honey\n",
            "Percentage of null values: 98.85333333333334\n",
            "Colunm Name :  salad\n",
            "Percentage of null values: 99.38666666666667\n",
            "Colunm Name :  mineral water\n",
            "Percentage of null values: 99.68\n",
            "Colunm Name :  salmon\n",
            "Percentage of null values: 99.90666666666667\n",
            "Colunm Name :  antioxydant juice\n",
            "Percentage of null values: 99.96000000000001\n",
            "Colunm Name :  frozen smoothie\n",
            "Percentage of null values: 99.96000000000001\n",
            "Colunm Name :  spinach\n",
            "Percentage of null values: 99.97333333333333\n",
            "Colunm Name :  olive oil\n",
            "Percentage of null values: 100.0\n"
          ],
          "name": "stdout"
        }
      ]
    },
    {
      "cell_type": "code",
      "metadata": {
        "id": "jQXavbQeX7sb"
      },
      "source": [
        ""
      ],
      "execution_count": null,
      "outputs": []
    }
  ]
}